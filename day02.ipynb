{
 "nbformat": 4,
 "nbformat_minor": 0,
 "metadata": {
  "colab": {
   "provenance": []
  },
  "kernelspec": {
   "name": "python3",
   "language": "python",
   "display_name": "Python 3 (ipykernel)"
  },
  "language_info": {
   "name": "python"
  }
 },
 "cells": [
  {
   "cell_type": "code",
   "execution_count": 7,
   "metadata": {
    "id": "HiveSOs6kelD",
    "ExecuteTime": {
     "end_time": "2023-12-04T14:09:19.239002Z",
     "start_time": "2023-12-04T14:09:19.232939Z"
    }
   },
   "outputs": [],
   "source": [
    "import pandas as pd"
   ]
  },
  {
   "cell_type": "code",
   "source": [
    "with open('inputs/adventofcode.com_2023_day_2_input.txt') as f:\n",
    "    lines = [line.rstrip() for line in f]\n",
    "    f.close()"
   ],
   "metadata": {
    "id": "Z_MgaMmtklF3",
    "ExecuteTime": {
     "end_time": "2023-12-04T14:09:19.243688Z",
     "start_time": "2023-12-04T14:09:19.238648Z"
    }
   },
   "execution_count": 8,
   "outputs": []
  },
  {
   "cell_type": "code",
   "source": [
    "def parse_extraction(extraction, game_id):\n",
    "  extr = {c.split(\" \")[2] : int(c.split(\" \")[1]) for c in extraction.split(\",\")}\n",
    "  extr[\"id\"] = game_id\n",
    "  return extr\n",
    "\n",
    "def parse_game(line):\n",
    "  game_id = int(line.split(\":\")[0].split(\" \")[1])\n",
    "  extractions = line.split(\":\")[1].split(\";\")\n",
    "  return list(map(lambda x:parse_extraction(x,game_id), extractions))"
   ],
   "metadata": {
    "id": "8WNshLcwk0sD",
    "ExecuteTime": {
     "end_time": "2023-12-04T14:09:19.253636Z",
     "start_time": "2023-12-04T14:09:19.244237Z"
    }
   },
   "execution_count": 9,
   "outputs": []
  },
  {
   "cell_type": "code",
   "source": [
    "games = pd.DataFrame([x for n in map(parse_game,lines) for x in n]).fillna(0)\n",
    "minimum_cubes = games.groupby(['id']).max().reset_index()"
   ],
   "metadata": {
    "id": "WfE9JYqom3gd",
    "ExecuteTime": {
     "end_time": "2023-12-04T14:09:19.255006Z",
     "start_time": "2023-12-04T14:09:19.252004Z"
    }
   },
   "execution_count": 10,
   "outputs": []
  },
  {
   "cell_type": "markdown",
   "source": [
    "# Part 1"
   ],
   "metadata": {
    "id": "AfVEBcvUvsvb"
   }
  },
  {
   "cell_type": "code",
   "source": [
    "minimum_cubes[(minimum_cubes[\"red\"] <= 12) & (minimum_cubes[\"green\"] <= 13) & (minimum_cubes[\"blue\"] <= 14)][\"id\"].sum()"
   ],
   "metadata": {
    "colab": {
     "base_uri": "https://localhost:8080/"
    },
    "id": "p4T5I-JNsdwv",
    "outputId": "425ef74e-c5e7-45e0-acc0-5b5ec8c623c2",
    "ExecuteTime": {
     "end_time": "2023-12-04T14:09:19.260877Z",
     "start_time": "2023-12-04T14:09:19.258482Z"
    }
   },
   "execution_count": 11,
   "outputs": [
    {
     "data": {
      "text/plain": "2237"
     },
     "execution_count": 11,
     "metadata": {},
     "output_type": "execute_result"
    }
   ]
  },
  {
   "cell_type": "markdown",
   "source": [
    "# Part 2"
   ],
   "metadata": {
    "id": "KQS20rPevvXp"
   }
  },
  {
   "cell_type": "code",
   "source": [
    "int((minimum_cubes[\"red\"]*minimum_cubes[\"green\"]*minimum_cubes[\"blue\"]).sum())"
   ],
   "metadata": {
    "colab": {
     "base_uri": "https://localhost:8080/"
    },
    "id": "t5LcDHbIwEt6",
    "outputId": "4886397c-590e-4fff-8eeb-8aec343414e1",
    "ExecuteTime": {
     "end_time": "2023-12-04T14:09:19.264668Z",
     "start_time": "2023-12-04T14:09:19.262799Z"
    }
   },
   "execution_count": 12,
   "outputs": [
    {
     "data": {
      "text/plain": "66681"
     },
     "execution_count": 12,
     "metadata": {},
     "output_type": "execute_result"
    }
   ]
  }
 ]
}
