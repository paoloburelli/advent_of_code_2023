{
 "cells": [
  {
   "cell_type": "markdown",
   "source": [],
   "metadata": {
    "collapsed": false
   }
  },
  {
   "cell_type": "code",
   "execution_count": 1,
   "outputs": [],
   "source": [
    "import re\n",
    "import pandas as pd"
   ],
   "metadata": {
    "collapsed": false,
    "ExecuteTime": {
     "end_time": "2023-12-04T14:09:23.492451Z",
     "start_time": "2023-12-04T14:09:23.206864Z"
    }
   }
  },
  {
   "cell_type": "code",
   "execution_count": 2,
   "metadata": {
    "collapsed": true,
    "ExecuteTime": {
     "end_time": "2023-12-04T14:09:23.496458Z",
     "start_time": "2023-12-04T14:09:23.493216Z"
    }
   },
   "outputs": [],
   "source": [
    "with open('inputs/adventofcode.com_2023_day_3_input.txt') as f:\n",
    "    lines = [line.rstrip() for line in f]\n",
    "    f.close()"
   ]
  },
  {
   "cell_type": "code",
   "execution_count": 3,
   "outputs": [],
   "source": [
    "labels = pd.DataFrame([{\"l\": int(f.group()), \"y\":ln, \"x_min\":f.start(), \"x_max\":f.end()-1} for ln in range(len(lines)) for f in re.finditer(\"\\d+\",lines[ln])])\n",
    "symbols = pd.DataFrame([{\"l\": f.group(), \"y\":ln, \"x\":f.start()} for ln in range(len(lines)) for f in re.finditer(\"[^(\\d|\\.)]\",lines[ln])])"
   ],
   "metadata": {
    "collapsed": false,
    "ExecuteTime": {
     "end_time": "2023-12-04T14:09:23.502806Z",
     "start_time": "2023-12-04T14:09:23.499639Z"
    }
   }
  },
  {
   "cell_type": "markdown",
   "source": [
    "# Part 1"
   ],
   "metadata": {
    "collapsed": false
   }
  },
  {
   "cell_type": "code",
   "execution_count": 4,
   "outputs": [],
   "source": [
    "def valid_part_number(label, symbols):\n",
    "    if len(symbols[(symbols[\"y\"] >= label[\"y\"]-1) & (symbols[\"y\"] <= label[\"y\"]+1) & (symbols[\"x\"] >= label[\"x_min\"]-1) & (symbols[\"x\"] <= label[\"x_max\"]+1)]) > 0:\n",
    "        return label[\"l\"]\n",
    "    else:\n",
    "        return 0"
   ],
   "metadata": {
    "collapsed": false,
    "ExecuteTime": {
     "end_time": "2023-12-04T14:09:23.505685Z",
     "start_time": "2023-12-04T14:09:23.503955Z"
    }
   }
  },
  {
   "cell_type": "code",
   "execution_count": 5,
   "outputs": [
    {
     "data": {
      "text/plain": "546312"
     },
     "execution_count": 5,
     "metadata": {},
     "output_type": "execute_result"
    }
   ],
   "source": [
    "labels.apply(lambda row: valid_part_number(row,symbols),axis=1).sum()"
   ],
   "metadata": {
    "collapsed": false,
    "ExecuteTime": {
     "end_time": "2023-12-04T14:09:23.795670Z",
     "start_time": "2023-12-04T14:09:23.507646Z"
    }
   }
  },
  {
   "cell_type": "markdown",
   "source": [
    "# Part 2"
   ],
   "metadata": {
    "collapsed": false
   }
  },
  {
   "cell_type": "code",
   "execution_count": 6,
   "outputs": [],
   "source": [
    "def gear_ratio(symbol, labels):\n",
    "    if symbol[\"l\"] == \"*\":\n",
    "        gear_labels = labels[(symbol[\"y\"] >= labels[\"y\"]-1) & (symbol[\"y\"] <= labels[\"y\"]+1) & (symbol[\"x\"] >= labels[\"x_min\"]-1) & (symbol[\"x\"] <= labels[\"x_max\"]+1)]\n",
    "        if len(gear_labels) > 1:\n",
    "            return gear_labels[\"l\"].prod()\n",
    "    return 0"
   ],
   "metadata": {
    "collapsed": false,
    "ExecuteTime": {
     "end_time": "2023-12-04T14:09:23.799133Z",
     "start_time": "2023-12-04T14:09:23.796845Z"
    }
   }
  },
  {
   "cell_type": "code",
   "execution_count": 7,
   "outputs": [
    {
     "data": {
      "text/plain": "87449461"
     },
     "execution_count": 7,
     "metadata": {},
     "output_type": "execute_result"
    }
   ],
   "source": [
    "symbols.apply(lambda row: gear_ratio(row,labels),axis=1).sum()"
   ],
   "metadata": {
    "collapsed": false,
    "ExecuteTime": {
     "end_time": "2023-12-04T14:09:23.947724Z",
     "start_time": "2023-12-04T14:09:23.799349Z"
    }
   }
  }
 ],
 "metadata": {
  "kernelspec": {
   "display_name": "Python 3",
   "language": "python",
   "name": "python3"
  },
  "language_info": {
   "codemirror_mode": {
    "name": "ipython",
    "version": 2
   },
   "file_extension": ".py",
   "mimetype": "text/x-python",
   "name": "python",
   "nbconvert_exporter": "python",
   "pygments_lexer": "ipython2",
   "version": "2.7.6"
  }
 },
 "nbformat": 4,
 "nbformat_minor": 0
}
