{
 "nbformat": 4,
 "nbformat_minor": 0,
 "metadata": {
  "colab": {
   "provenance": []
  },
  "kernelspec": {
   "name": "python3",
   "language": "python",
   "display_name": "Python 3 (ipykernel)"
  },
  "language_info": {
   "name": "python"
  }
 },
 "cells": [
  {
   "cell_type": "code",
   "source": [
    "import re\n",
    "from functools import reduce\n",
    "from multiprocessing.pool import Pool"
   ],
   "metadata": {
    "id": "QgJ9ERWEpaEW",
    "ExecuteTime": {
     "end_time": "2023-12-04T14:07:57.262201Z",
     "start_time": "2023-12-04T14:07:57.254086Z"
    }
   },
   "execution_count": 1,
   "outputs": []
  },
  {
   "cell_type": "code",
   "execution_count": 2,
   "metadata": {
    "id": "ck4Gyy-4o3-0",
    "ExecuteTime": {
     "end_time": "2023-12-04T14:07:57.265724Z",
     "start_time": "2023-12-04T14:07:57.263227Z"
    }
   },
   "outputs": [],
   "source": [
    "with open('inputs/adventofcode.com_2023_day_1_input.txt') as f:\n",
    "    lines = f.readlines()"
   ]
  },
  {
   "cell_type": "markdown",
   "source": [
    "# Part One"
   ],
   "metadata": {
    "id": "E6vqaoWdx6sj"
   }
  },
  {
   "cell_type": "code",
   "source": [
    "def extract_number(line):\n",
    "\n",
    "  string_numbers = re.findall(\"[1-9]\",line)\n",
    "  return int(string_numbers[0]+string_numbers[-1])\n",
    "\n",
    "reduce(lambda x, y:x+y, map(extract_number, lines))"
   ],
   "metadata": {
    "colab": {
     "base_uri": "https://localhost:8080/"
    },
    "id": "BRoEv42rvELr",
    "outputId": "4f680720-6748-41a0-9703-20e18248abf1",
    "ExecuteTime": {
     "end_time": "2023-12-04T14:07:57.282815Z",
     "start_time": "2023-12-04T14:07:57.269369Z"
    }
   },
   "execution_count": 3,
   "outputs": [
    {
     "data": {
      "text/plain": "52974"
     },
     "execution_count": 3,
     "metadata": {},
     "output_type": "execute_result"
    }
   ]
  },
  {
   "cell_type": "markdown",
   "source": [
    "# Part Two"
   ],
   "metadata": {
    "id": "5wgMzEnLyFGC"
   }
  },
  {
   "cell_type": "code",
   "source": [
    "dictionary = {\"one\":\"1\",\"two\":\"2\",\"three\":\"3\",\"four\":\"4\",\"five\":\"5\",\"six\":\"6\",\"seven\":\"7\",\"eight\":\"8\",\"nine\":\"9\"}\n",
    "direct_match = \"|\".join(list(dictionary.values())+list(dictionary.keys()))\n",
    "reverse_match = \"|\".join(list(dictionary.values())+list(map(lambda x:x[::-1], dictionary.keys())))\n",
    "\n",
    "def parse_spelled(digit):\n",
    "  if digit in dictionary:\n",
    "    return dictionary[digit]\n",
    "  else:\n",
    "    return digit\n",
    "\n",
    "def extract_first(line):\n",
    "  return re.search(direct_match, line).group(0)\n",
    "\n",
    "def extract_last(line):\n",
    "  return re.search(reverse_match, line[::-1]).group(0)[::-1]\n",
    "\n",
    "def extract_spelled_number(line):\n",
    "  return int(parse_spelled(extract_first(line))+parse_spelled(extract_last(line)))\n",
    "\n",
    "reduce(lambda x, y:x+y, map(extract_spelled_number, lines))"
   ],
   "metadata": {
    "colab": {
     "base_uri": "https://localhost:8080/"
    },
    "id": "VGCed9TDyBmx",
    "outputId": "491ff036-a0de-43a8-b10f-358b202197c0",
    "ExecuteTime": {
     "end_time": "2023-12-04T14:07:57.283217Z",
     "start_time": "2023-12-04T14:07:57.276177Z"
    }
   },
   "execution_count": 4,
   "outputs": [
    {
     "data": {
      "text/plain": "53340"
     },
     "execution_count": 4,
     "metadata": {},
     "output_type": "execute_result"
    }
   ]
  }
 ]
}
