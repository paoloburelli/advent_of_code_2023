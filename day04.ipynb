{
 "cells": [
  {
   "cell_type": "code",
   "execution_count": 1,
   "metadata": {
    "collapsed": true,
    "ExecuteTime": {
     "end_time": "2023-12-04T14:11:21.631374Z",
     "start_time": "2023-12-04T14:11:21.628784Z"
    }
   },
   "outputs": [],
   "source": [
    "import re"
   ]
  },
  {
   "cell_type": "code",
   "execution_count": 2,
   "outputs": [],
   "source": [
    "with open('inputs/adventofcode.com_2023_day_4_input.txt') as f:\n",
    "    lines = [line.rstrip() for line in f]\n",
    "    f.close()"
   ],
   "metadata": {
    "collapsed": false,
    "ExecuteTime": {
     "end_time": "2023-12-04T14:11:21.635982Z",
     "start_time": "2023-12-04T14:11:21.634075Z"
    }
   }
  },
  {
   "cell_type": "code",
   "execution_count": 3,
   "outputs": [],
   "source": [
    "def matching_numbers(line):\n",
    "    numbers_you_have = re.findall(\"\\d+\", line.split(\"|\")[1])\n",
    "    winning_numbers = re.findall(\"\\d+\", line.split(\"|\")[0].split(\":\")[1])\n",
    "    return len(list(filter(lambda x: x in winning_numbers, numbers_you_have)))"
   ],
   "metadata": {
    "collapsed": false,
    "ExecuteTime": {
     "end_time": "2023-12-04T14:11:21.642448Z",
     "start_time": "2023-12-04T14:11:21.637938Z"
    }
   }
  },
  {
   "cell_type": "markdown",
   "source": [
    "# Part 1"
   ],
   "metadata": {
    "collapsed": false
   }
  },
  {
   "cell_type": "code",
   "execution_count": 4,
   "outputs": [],
   "source": [
    "def score(line):\n",
    "    matches = matching_numbers(line)\n",
    "    return pow(2, matches - 1) if matches > 0 else 0"
   ],
   "metadata": {
    "collapsed": false,
    "ExecuteTime": {
     "end_time": "2023-12-04T14:11:21.642710Z",
     "start_time": "2023-12-04T14:11:21.640996Z"
    }
   }
  },
  {
   "cell_type": "code",
   "execution_count": 5,
   "outputs": [
    {
     "data": {
      "text/plain": "24848"
     },
     "execution_count": 5,
     "metadata": {},
     "output_type": "execute_result"
    }
   ],
   "source": [
    "sum(list(map(score, lines)))"
   ],
   "metadata": {
    "collapsed": false,
    "ExecuteTime": {
     "end_time": "2023-12-04T14:11:21.651147Z",
     "start_time": "2023-12-04T14:11:21.648965Z"
    }
   }
  },
  {
   "cell_type": "markdown",
   "source": [
    "# Part 2"
   ],
   "metadata": {
    "collapsed": false
   }
  },
  {
   "cell_type": "code",
   "execution_count": 6,
   "outputs": [],
   "source": [
    "owned_list = [(i, matching_numbers(lines[i])) for i in range(len(lines))]\n",
    "\n",
    "for card in owned_list:\n",
    "    owned_list += [(card[0] + i + 1, owned_list[card[0] + i + 1][1])  for i in range(owned_list[card[0]][1])]"
   ],
   "metadata": {
    "collapsed": false,
    "ExecuteTime": {
     "end_time": "2023-12-04T14:11:24.854482Z",
     "start_time": "2023-12-04T14:11:21.717372Z"
    }
   }
  },
  {
   "cell_type": "code",
   "execution_count": 7,
   "outputs": [
    {
     "data": {
      "text/plain": "7258152"
     },
     "execution_count": 7,
     "metadata": {},
     "output_type": "execute_result"
    }
   ],
   "source": [
    "len(owned_list)"
   ],
   "metadata": {
    "collapsed": false,
    "ExecuteTime": {
     "end_time": "2023-12-04T14:11:24.857639Z",
     "start_time": "2023-12-04T14:11:24.855235Z"
    }
   }
  }
 ],
 "metadata": {
  "kernelspec": {
   "display_name": "Python 3",
   "language": "python",
   "name": "python3"
  },
  "language_info": {
   "codemirror_mode": {
    "name": "ipython",
    "version": 2
   },
   "file_extension": ".py",
   "mimetype": "text/x-python",
   "name": "python",
   "nbconvert_exporter": "python",
   "pygments_lexer": "ipython2",
   "version": "2.7.6"
  }
 },
 "nbformat": 4,
 "nbformat_minor": 0
}
