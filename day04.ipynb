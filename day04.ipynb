{
 "cells": [
  {
   "cell_type": "code",
   "execution_count": 83,
   "metadata": {
    "collapsed": true,
    "ExecuteTime": {
     "end_time": "2023-12-04T13:36:25.199775Z",
     "start_time": "2023-12-04T13:36:25.193213Z"
    }
   },
   "outputs": [],
   "source": [
    "import re"
   ]
  },
  {
   "cell_type": "code",
   "execution_count": 84,
   "outputs": [],
   "source": [
    "with open('inputs/adventofcode.com_2023_day_4_input.txt') as f:\n",
    "    lines = [line.rstrip() for line in f]\n",
    "    f.close()"
   ],
   "metadata": {
    "collapsed": false,
    "ExecuteTime": {
     "end_time": "2023-12-04T13:36:25.200474Z",
     "start_time": "2023-12-04T13:36:25.197673Z"
    }
   }
  },
  {
   "cell_type": "code",
   "execution_count": 85,
   "outputs": [],
   "source": [
    "def matching_numbers(line):\n",
    "    numbers_you_have = re.findall(\"\\d+\", line.split(\"|\")[1])\n",
    "    winning_numbers = re.findall(\"\\d+\", line.split(\"|\")[0].split(\":\")[1])\n",
    "    return len(list(filter(lambda x: x in winning_numbers, numbers_you_have)))"
   ],
   "metadata": {
    "collapsed": false,
    "ExecuteTime": {
     "end_time": "2023-12-04T13:36:25.205214Z",
     "start_time": "2023-12-04T13:36:25.202777Z"
    }
   }
  },
  {
   "cell_type": "markdown",
   "source": [
    "# Part 1"
   ],
   "metadata": {
    "collapsed": false
   }
  },
  {
   "cell_type": "code",
   "execution_count": 86,
   "outputs": [],
   "source": [
    "def score(line):\n",
    "    matches = matching_numbers(line)\n",
    "    return pow(2, matches - 1) if matches > 0 else 0"
   ],
   "metadata": {
    "collapsed": false,
    "ExecuteTime": {
     "end_time": "2023-12-04T13:36:25.210808Z",
     "start_time": "2023-12-04T13:36:25.206309Z"
    }
   }
  },
  {
   "cell_type": "code",
   "execution_count": 87,
   "outputs": [
    {
     "data": {
      "text/plain": "24848"
     },
     "execution_count": 87,
     "metadata": {},
     "output_type": "execute_result"
    }
   ],
   "source": [
    "sum(list(map(score, lines)))"
   ],
   "metadata": {
    "collapsed": false,
    "ExecuteTime": {
     "end_time": "2023-12-04T13:36:25.216060Z",
     "start_time": "2023-12-04T13:36:25.213541Z"
    }
   }
  },
  {
   "cell_type": "markdown",
   "source": [
    "# Part 2"
   ],
   "metadata": {
    "collapsed": false
   }
  },
  {
   "cell_type": "code",
   "execution_count": 88,
   "outputs": [],
   "source": [
    "owned_list = [(i, matching_numbers(lines[i])) for i in range(len(lines))]\n",
    "\n",
    "for card in owned_list:\n",
    "    owned_list += [(card[0] + i + 1, owned_list[card[0] + i + 1][1])  for i in range(owned_list[card[0]][1])]"
   ],
   "metadata": {
    "collapsed": false,
    "ExecuteTime": {
     "end_time": "2023-12-04T13:36:28.541718Z",
     "start_time": "2023-12-04T13:36:25.215980Z"
    }
   }
  },
  {
   "cell_type": "code",
   "execution_count": 89,
   "outputs": [
    {
     "data": {
      "text/plain": "7258152"
     },
     "execution_count": 89,
     "metadata": {},
     "output_type": "execute_result"
    }
   ],
   "source": [
    "len(owned_list)"
   ],
   "metadata": {
    "collapsed": false,
    "ExecuteTime": {
     "end_time": "2023-12-04T13:36:28.551875Z",
     "start_time": "2023-12-04T13:36:28.542883Z"
    }
   }
  }
 ],
 "metadata": {
  "kernelspec": {
   "display_name": "Python 3",
   "language": "python",
   "name": "python3"
  },
  "language_info": {
   "codemirror_mode": {
    "name": "ipython",
    "version": 2
   },
   "file_extension": ".py",
   "mimetype": "text/x-python",
   "name": "python",
   "nbconvert_exporter": "python",
   "pygments_lexer": "ipython2",
   "version": "2.7.6"
  }
 },
 "nbformat": 4,
 "nbformat_minor": 0
}
